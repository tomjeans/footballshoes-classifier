{
 "cells": [
  {
   "cell_type": "code",
   "execution_count": 5,
   "metadata": {},
   "outputs": [],
   "source": [
    "import os\n",
    "import numpy as np\n",
    "from PIL import Image\n",
    "import tensorflow as tf\n",
    "import matplotlib.pyplot as plt\n",
    "import sklearn\n",
    "from sklearn import preprocessing\n",
    "import h5py\n",
    "import scipy\n",
    "\n"
   ]
  },
  {
   "cell_type": "code",
   "execution_count": 6,
   "metadata": {},
   "outputs": [],
   "source": [
    "def get_files(file_dir):\n",
    "    nike = []\n",
    "    label_nike = []\n",
    "    puma = []\n",
    "    label_puma = []\n",
    "    adidas = []\n",
    "    label_adidas = []\n",
    "    \n",
    "    for file in os.listdir(file_dir+'/nike'):\n",
    "        nike.append(file_dir+'/nike'+'/'+file)\n",
    "        label_nike.append(0)\n",
    "    for file in os.listdir(file_dir+'/puma'):\n",
    "        puma.append(file_dir+'/puma'+'/'+file)\n",
    "        label_puma.append(1)\n",
    "    for file in os.listdir(file_dir+'/adidas'):\n",
    "        adidas.append(file_dir+'/adidas'+'/'+file)\n",
    "        label_adidas.append(2)\n",
    "        \n",
    "    image_list = np.hstack((nike, puma, adidas))\n",
    "    label_list = np.hstack((label_nike, label_puma, label_adidas))\n",
    "\n",
    "    temp = np.array([image_list, label_list])\n",
    "    temp = temp.transpose()\n",
    "    np.random.shuffle(temp)\n",
    "\n",
    "    image_list = list(temp[:,0])\n",
    "    label_list = list(temp[:,2])\n",
    "    label_list = [int(i) for i in label_list]\n",
    "\n",
    "    return image_list,label_list"
   ]
  },
  {
   "cell_type": "code",
   "execution_count": 7,
   "metadata": {},
   "outputs": [
    {
     "name": "stdout",
     "output_type": "stream",
     "text": [
      "2542\n",
      "2542\n"
     ]
    }
   ],
   "source": [
    "train_dir = '/home/xiepeng/visionoffootballshoes/footballshoes'\n",
    "image_list,label_list = get_files(train_dir)  \n",
    "  \n",
    "print(len(image_list))  \n",
    "print(len(label_list)) "
   ]
  },
  {
   "cell_type": "code",
   "execution_count": 11,
   "metadata": {},
   "outputs": [],
   "source": [
    "Train_image =  np.random.rand(len(image_list)-450, 64, 64, 3).astype('float32')  \n",
    "Train_label = np.random.rand(len(image_list)-450, 1).astype('float32')  \n",
    "  \n",
    "Test_image =  np.random.rand(450, 64, 64, 3).astype('float32')  \n",
    "Test_label = np.random.rand(450, 1).astype('float32')  "
   ]
  },
  {
   "cell_type": "code",
   "execution_count": 12,
   "metadata": {},
   "outputs": [],
   "source": [
    "for i in range(len(image_list)-450):  \n",
    "    Train_image[i] = np.array(plt.imread(image_list[i]))  \n",
    "    Train_label[i] = np.array(label_list[i])  \n",
    "  \n",
    "for i in range(len(image_list)-450, len(image_list)):  \n",
    "    Test_image[i+450-len(image_list)] = np.array(plt.imread(image_list[i]))  \n",
    "    Test_label[i+450-len(image_list)] = np.array(label_list[i]) "
   ]
  },
  {
   "cell_type": "code",
   "execution_count": 13,
   "metadata": {},
   "outputs": [],
   "source": [
    "f = h5py.File('data.h5', 'w')  \n",
    "f.create_dataset('X_train', data=Train_image)  \n",
    "f.create_dataset('y_train', data=Train_label)  \n",
    "f.create_dataset('X_test', data=Test_image)  \n",
    "f.create_dataset('y_test', data=Test_label)  \n",
    "f.close() "
   ]
  },
  {
   "cell_type": "code",
   "execution_count": 14,
   "metadata": {},
   "outputs": [],
   "source": [
    "train_dataset = h5py.File('data.h5', 'r')  \n",
    "train_set_x_orig = np.array(train_dataset['X_train'][:]) # your train set features  \n",
    "train_set_y_orig = np.array(train_dataset['y_train'][:]) # your train set labels  \n",
    "test_set_x_orig = np.array(train_dataset['X_test'][:]) # your train set features  \n",
    "test_set_y_orig = np.array(train_dataset['y_test'][:]) # your train set labels  \n",
    "f.close()  "
   ]
  },
  {
   "cell_type": "code",
   "execution_count": 15,
   "metadata": {},
   "outputs": [
    {
     "name": "stdout",
     "output_type": "stream",
     "text": [
      "(2092, 80, 80, 3)\n",
      "(2092, 1)\n",
      "255.0\n",
      "0.0\n",
      "(450, 80, 80, 3)\n",
      "(450, 1)\n"
     ]
    }
   ],
   "source": [
    "print(train_set_x_orig.shape)  \n",
    "print(train_set_y_orig.shape)  \n",
    "  \n",
    "print(train_set_x_orig.max())  \n",
    "print(train_set_x_orig.min())  \n",
    "  \n",
    "print(test_set_x_orig.shape)  \n",
    "print(test_set_y_orig.shape)"
   ]
  },
  {
   "cell_type": "code",
   "execution_count": 18,
   "metadata": {},
   "outputs": [
    {
     "name": "stdout",
     "output_type": "stream",
     "text": [
      "[0.]\n"
     ]
    },
    {
     "data": {
      "image/png": "[encoded data removed]",
      "text/plain": [
       "<matplotlib.figure.Figure at 0x7fb9a20bdac8>"
      ]
     },
     "metadata": {},
     "output_type": "display_data"
    }
   ],
   "source": [
    "plt.imshow(train_set_x_orig[221])  \n",
    "print(train_set_y_orig[221]) "
   ]
  },
  {
   "cell_type": "code",
   "execution_count": 1,
   "metadata": {},
   "outputs": [
    {
     "name": "stderr",
     "output_type": "stream",
     "text": [
      "/home/xiepeng/anaconda2/envs/py3/lib/python3.6/site-packages/h5py/__init__.py:36: FutureWarning: Conversion of the second argument of issubdtype from `float` to `np.floating` is deprecated. In future, it will be treated as `np.float64 == np.dtype(float).type`.\n",
      "  from ._conv import register_converters as _register_converters\n",
      "Using TensorFlow backend.\n"
     ]
    }
   ],
   "source": [
    "import numpy as np  \n",
    "#import tensorflow as tf  \n",
    "from keras import layers  \n",
    "from keras.layers import Input, Dense, Activation, ZeroPadding2D, BatchNormalization, Flatten, Conv2D  \n",
    "from keras.layers import AveragePooling2D, MaxPooling2D, Dropout, GlobalMaxPooling2D, GlobalAveragePooling2D  \n",
    "from keras.models import Model  \n",
    "from keras.preprocessing import image  \n",
    "from keras.utils import layer_utils  \n",
    "from keras.utils.data_utils import get_file  \n",
    "from keras.applications.imagenet_utils import preprocess_input  \n",
    "import pydot  \n",
    "from IPython.display import SVG  \n",
    "from keras.utils.vis_utils import model_to_dot  \n",
    "from keras.utils import plot_model  \n",
    "  \n",
    "  \n",
    "import keras.backend as K  \n",
    "K.set_image_data_format('channels_last')  \n",
    "import matplotlib.pyplot as plt  \n",
    "from matplotlib.pyplot import imshow  \n",
    "  \n",
    "  \n",
    "import os  \n",
    "import numpy as np  \n",
    "from PIL import Image  \n",
    "import tensorflow as tf  \n",
    "import sklearn  \n",
    "from sklearn import preprocessing  \n",
    "import h5py  \n",
    "import scipy  \n",
    "#导入必要的包  \n",
    "%matplotlib inline"
   ]
  },
  {
   "cell_type": "code",
   "execution_count": 2,
   "metadata": {},
   "outputs": [],
   "source": [
    "# 二、导入 hdf5 数据集  \n",
    "#我的图片大小为（64*64*3）  \n",
    "train_dataset = h5py.File('data.h5', 'r')  \n",
    "X_train = np.array(train_dataset['X_train'][:]) # your train set features  \n",
    "Y_train = np.array(train_dataset['y_train'][:]) # your train set labels  \n",
    "X_test = np.array(train_dataset['X_test'][:]) # your train set features  \n",
    "Y_test = np.array(train_dataset['y_test'][:]) # your train set labels  \n",
    "train_dataset.close()"
   ]
  },
  {
   "cell_type": "code",
   "execution_count": 3,
   "metadata": {},
   "outputs": [
    {
     "name": "stdout",
     "output_type": "stream",
     "text": [
      "number of training examples = 2092\n",
      "number of test examples = 450\n",
      "X_train shape: (2092, 80, 80, 3)\n",
      "Y_train shape: (2092, 1)\n",
      "X_test shape: (450, 80, 80, 3)\n",
      "Y_test shape: (450, 1)\n"
     ]
    }
   ],
   "source": [
    "print (\"number of training examples = \" + str(X_train.shape[0]))  \n",
    "print (\"number of test examples = \" + str(X_test.shape[0]))  \n",
    "print (\"X_train shape: \" + str(X_train.shape))  \n",
    "print (\"Y_train shape: \" + str(Y_train.shape))  \n",
    "print (\"X_test shape: \" + str(X_test.shape))  \n",
    "print (\"Y_test shape: \" + str(Y_test.shape))"
   ]
  },
  {
   "cell_type": "code",
   "execution_count": 7,
   "metadata": {},
   "outputs": [],
   "source": [
    "#三、建立模型  \n",
    "# GRADED FUNCTION: TumbleModel  \n",
    "      \n",
    "def TumbleModel(input_shape):  \n",
    "        \"\"\" \n",
    "        Implementation of the HappyModel. \n",
    "         \n",
    "        Arguments: \n",
    "        input_shape -- shape of the images of the dataset \n",
    "     \n",
    "     \n",
    "        Returns: \n",
    "        model -- a Model() instance in Keras \n",
    "        \"\"\"  \n",
    "          \n",
    "        ### START CODE HERE ###  \n",
    "        # Feel free to use the suggested outline in the text above to get started, and run through the whole  \n",
    "        # exercise (including the later portions of this notebook) once. The come back also try out other  \n",
    "        # network architectures as well.   \n",
    "        X_input = Input(shape=input_shape)  \n",
    "        X = ZeroPadding2D(padding=(1, 1))(X_input)  \n",
    "        X = Conv2D(8, kernel_size=(3,3), strides=(1,1))(X)  \n",
    "        X = BatchNormalization(axis=3)(X)  \n",
    "        X = Activation('relu')(X)  \n",
    "        X = MaxPooling2D(pool_size=(2,2), strides=(2,2), padding='valid')(X)   #32*32*8  \n",
    "          \n",
    "        X = ZeroPadding2D(padding=(1, 1))(X)  \n",
    "        X = Conv2D(16, kernel_size=(3,3), strides=(1,1))(X)                     #32*32*16  \n",
    "        X = BatchNormalization(axis=3)(X)  \n",
    "        X = Activation('relu')(X)  \n",
    "        X = MaxPooling2D(pool_size=(2,2), strides=(2,2), padding='valid')(X)   #16*16*16  \n",
    "          \n",
    "        X = ZeroPadding2D(padding=(1, 1))(X)  \n",
    "        X = Conv2D(32, kernel_size=(3,3), strides=(1,1))(X)                 #16*16*32  \n",
    "        X = BatchNormalization(axis=3)(X)  \n",
    "        X = Activation('relu')(X)  \n",
    "        X = MaxPooling2D(pool_size=(2,2), strides=(2,2), padding='valid')(X)     #8*8*32  \n",
    "          \n",
    "        # FC  \n",
    "        X = Flatten()(X)  \n",
    "        Y = Dense(3, activation='softmax')(X)  \n",
    "          \n",
    "        model = Model(inputs = X_input, outputs = Y, name='TumbleModel')  \n",
    "        ### END CODE HERE ###  \n",
    "          \n",
    "        return model  \n",
    "\n"
   ]
  },
  {
   "cell_type": "code",
   "execution_count": 8,
   "metadata": {},
   "outputs": [],
   "source": [
    "tumbleModel = TumbleModel((64, 64, 3)) "
   ]
  },
  {
   "cell_type": "code",
   "execution_count": 9,
   "metadata": {},
   "outputs": [],
   "source": [
    "import keras  \n",
    "tumbleModel.compile(optimizer=keras.optimizers.Adam(lr=0.001, beta_1=0.9, beta_2=0.999, epsilon=1e-08, decay=0.0), loss='categorical_crossentropy', metrics=['accuracy'])  "
   ]
  },
  {
   "cell_type": "code",
   "execution_count": 12,
   "metadata": {},
   "outputs": [
    {
     "name": "stdout",
     "output_type": "stream",
     "text": [
      "Epoch 1/20\n",
      "2092/2092 [==============================] - 30s 14ms/step - loss: -6.1309 - acc: 0.5932\n",
      "Epoch 2/20\n",
      "2092/2092 [==============================] - 30s 14ms/step - loss: -6.1449 - acc: 0.5951\n",
      "Epoch 3/20\n",
      "2092/2092 [==============================] - 31s 15ms/step - loss: -6.1557 - acc: 0.5961\n",
      "Epoch 4/20\n",
      "2092/2092 [==============================] - 29s 14ms/step - loss: -6.1578 - acc: 0.5980\n",
      "Epoch 5/20\n",
      "2092/2092 [==============================] - 29s 14ms/step - loss: -6.1700 - acc: 0.5999\n",
      "Epoch 6/20\n",
      "2092/2092 [==============================] - 32s 15ms/step - loss: -6.1603 - acc: 0.5975\n",
      "Epoch 7/20\n",
      "2092/2092 [==============================] - 37s 18ms/step - loss: -6.1314 - acc: 0.5889\n",
      "Epoch 8/20\n",
      "2092/2092 [==============================] - 33s 16ms/step - loss: -6.1414 - acc: 0.5923\n",
      "Epoch 9/20\n",
      "2092/2092 [==============================] - 29s 14ms/step - loss: -6.1621 - acc: 0.5961\n",
      "Epoch 10/20\n",
      "2092/2092 [==============================] - 28s 14ms/step - loss: -6.1419 - acc: 0.5951\n",
      "Epoch 11/20\n",
      "2092/2092 [==============================] - 30s 14ms/step - loss: -6.1456 - acc: 0.5932\n",
      "Epoch 12/20\n",
      "2092/2092 [==============================] - 29s 14ms/step - loss: -6.1301 - acc: 0.5884\n",
      "Epoch 13/20\n",
      "2092/2092 [==============================] - 29s 14ms/step - loss: -6.1732 - acc: 0.5994\n",
      "Epoch 14/20\n",
      "2092/2092 [==============================] - 29s 14ms/step - loss: -6.1728 - acc: 0.5994\n",
      "Epoch 15/20\n",
      "2092/2092 [==============================] - 30s 14ms/step - loss: -6.1748 - acc: 0.5999\n",
      "Epoch 16/20\n",
      "2092/2092 [==============================] - 28s 14ms/step - loss: -6.1635 - acc: 0.5970\n",
      "Epoch 17/20\n",
      "2092/2092 [==============================] - 31s 15ms/step - loss: -6.1164 - acc: 0.5851\n",
      "Epoch 18/20\n",
      "2092/2092 [==============================] - 29s 14ms/step - loss: -6.1734 - acc: 0.5985\n",
      "Epoch 19/20\n",
      "2092/2092 [==============================] - 30s 14ms/step - loss: -6.1445 - acc: 0.5923\n",
      "Epoch 20/20\n",
      "2092/2092 [==============================] - 29s 14ms/step - loss: -6.1762 - acc: 0.5975\n"
     ]
    },
    {
     "data": {
      "text/plain": [
       "<keras.callbacks.History at 0x7fbb411f3668>"
      ]
     },
     "execution_count": 12,
     "metadata": {},
     "output_type": "execute_result"
    }
   ],
   "source": [
    "tumbleModel.fit(x=X_train, y=Y_train, batch_size=16, epochs=20)"
   ]
  },
  {
   "cell_type": "code",
   "execution_count": 13,
   "metadata": {},
   "outputs": [
    {
     "name": "stdout",
     "output_type": "stream",
     "text": [
      "450/450 [==============================] - 2s 5ms/step\n",
      "\n",
      "Loss = -4.7836814244588215\n",
      "Test Accuracy = 0.5755555555555556\n"
     ]
    }
   ],
   "source": [
    "preds = tumbleModel.evaluate(x=X_test, y=Y_test)  \n",
    "print()  \n",
    "print (\"Loss = \" + str(preds[0]))  \n",
    "print (\"Test Accuracy = \" + str(preds[1])) "
   ]
  },
  {
   "cell_type": "code",
   "execution_count": 18,
   "metadata": {},
   "outputs": [
    {
     "name": "stdout",
     "output_type": "stream",
     "text": [
      "[[1.]]\n"
     ]
    },
    {
     "data": {
      "image/png": "[encoded data removed]",
      "text/plain": [
       "<matplotlib.figure.Figure at 0x7fbb3421a518>"
      ]
     },
     "metadata": {},
     "output_type": "display_data"
    }
   ],
   "source": [
    "img_path = '/home/xiepeng/thumb_80_0_20161212035215252_结果.jpg'  \n",
    "img = image.load_img(img_path, target_size=(64, 64))  \n",
    "imshow(img)  \n",
    "x = image.img_to_array(img)  \n",
    "x = np.expand_dims(x, axis=0)  \n",
    "x = preprocess_input(x)  \n",
    "  \n",
    "print(tumbleModel.predict(x))"
   ]
  },
  {
   "cell_type": "code",
   "execution_count": null,
   "metadata": {},
   "outputs": [],
   "source": []
  }
 ],
 "metadata": {
  "kernelspec": {
   "display_name": "Python 3",
   "language": "python",
   "name": "python3"
  },
  "language_info": {
   "codemirror_mode": {
    "name": "ipython",
    "version": 3
   },
   "file_extension": ".py",
   "mimetype": "text/x-python",
   "name": "python",
   "nbconvert_exporter": "python",
   "pygments_lexer": "ipython3",
   "version": "3.6.4"
  }
 },
 "nbformat": 4,
 "nbformat_minor": 2
}
