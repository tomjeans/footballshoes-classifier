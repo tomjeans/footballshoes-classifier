{
 "cells": [
  {
   "cell_type": "code",
   "execution_count": 49,
   "metadata": {},
   "outputs": [],
   "source": [
    "import os\n",
    "import numpy as np\n",
    "from PIL import Image\n",
    "import tensorflow as tf\n",
    "import matplotlib.pyplot as plt\n",
    "import sklearn\n",
    "from sklearn import preprocessing\n",
    "import h5py\n",
    "import scipy\n",
    "\n"
   ]
  },
  {
   "cell_type": "code",
   "execution_count": 50,
   "metadata": {},
   "outputs": [],
   "source": [
    "def get_files(file_dir):\n",
    "    nike = []\n",
    "    label_nike = []\n",
    "    #puma = []\n",
    "    #label_puma = []\n",
    "    adidas = []\n",
    "    label_adidas = []\n",
    "    \n",
    "    for file in os.listdir(file_dir+'/nike'):\n",
    "        nike.append(file_dir+'/nike'+'/'+file)\n",
    "        label_nike.append(0)\n",
    "    #for file in os.listdir(file_dir+'/puma'):\n",
    "        #puma.append(file_dir+'/puma'+'/'+file)\n",
    "        #label_puma.append(1)\n",
    "    for file in os.listdir(file_dir+'/adidas'):\n",
    "        adidas.append(file_dir+'/adidas'+'/'+file)\n",
    "        label_adidas.append(1)\n",
    "        \n",
    "    image_list = np.hstack((nike,adidas))\n",
    "    label_list = np.hstack((label_nike,label_adidas))\n",
    "\n",
    "    temp = np.array([image_list, label_list])\n",
    "    temp = temp.transpose()\n",
    "    np.random.shuffle(temp)\n",
    "\n",
    "    image_list = list(temp[:,0])\n",
    "    label_list = list(temp[:,1])\n",
    "    label_list = [int(i) for i in label_list]\n",
    "\n",
    "    return image_list,label_list"
   ]
  },
  {
   "cell_type": "code",
   "execution_count": 51,
   "metadata": {},
   "outputs": [
    {
     "name": "stdout",
     "output_type": "stream",
     "text": [
      "3011\n",
      "3011\n"
     ]
    }
   ],
   "source": [
    "train_dir = '/home/xiepeng/visionoffootballshoes/22/footballshoes'\n",
    "image_list,label_list = get_files(train_dir)  \n",
    "  \n",
    "print(len(image_list))  \n",
    "print(len(label_list)) "
   ]
  },
  {
   "cell_type": "code",
   "execution_count": 52,
   "metadata": {},
   "outputs": [],
   "source": [
    "Train_image =  np.random.rand(len(image_list)-450, 64, 64, 3).astype('float32')  \n",
    "Train_label = np.random.rand(len(image_list)-450, 1).astype('float32')  \n",
    "  \n",
    "Test_image =  np.random.rand(450, 64, 64, 3).astype('float32')  \n",
    "Test_label = np.random.rand(450, 1).astype('float32') "
   ]
  },
  {
   "cell_type": "code",
   "execution_count": 7,
   "metadata": {},
   "outputs": [],
   "source": []
  },
  {
   "cell_type": "code",
   "execution_count": 53,
   "metadata": {},
   "outputs": [],
   "source": [
    "f = h5py.File('data1.h5', 'w')  \n",
    "f.create_dataset('X_train', data=Train_image)  \n",
    "f.create_dataset('y_train', data=Train_label)  \n",
    "f.create_dataset('X_test', data=Test_image)  \n",
    "f.create_dataset('y_test', data=Test_label)  \n",
    "f.close() "
   ]
  },
  {
   "cell_type": "code",
   "execution_count": 54,
   "metadata": {},
   "outputs": [],
   "source": [
    "train_dataset = h5py.File('data1.h5', 'r')  \n",
    "train_set_x_orig = np.array(train_dataset['X_train'][:]) # your train set features  \n",
    "train_set_y_orig = np.array(train_dataset['y_train'][:]) # your train set labels  \n",
    "test_set_x_orig = np.array(train_dataset['X_test'][:]) # your train set features  \n",
    "test_set_y_orig = np.array(train_dataset['y_test'][:]) # your train set labels  \n",
    "f.close()  "
   ]
  },
  {
   "cell_type": "code",
   "execution_count": 55,
   "metadata": {},
   "outputs": [
    {
     "name": "stdout",
     "output_type": "stream",
     "text": [
      "(2561, 64, 64, 3)\n",
      "(2561, 1)\n",
      "1.0\n",
      "6.1350653e-09\n",
      "(450, 64, 64, 3)\n",
      "(450, 1)\n"
     ]
    }
   ],
   "source": [
    "print(train_set_x_orig.shape)  \n",
    "print(train_set_y_orig.shape)  \n",
    "  \n",
    "print(train_set_x_orig.max())  \n",
    "print(train_set_x_orig.min())  \n",
    "  \n",
    "print(test_set_x_orig.shape)  \n",
    "print(test_set_y_orig.shape)"
   ]
  },
  {
   "cell_type": "code",
   "execution_count": 56,
   "metadata": {},
   "outputs": [
    {
     "name": "stdout",
     "output_type": "stream",
     "text": [
      "[0.9113521]\n"
     ]
    },
    {
     "data": {
      "image/png": "[encoded data removed]",
      "text/plain": [
       "<matplotlib.figure.Figure at 0x7f3044cba7b8>"
      ]
     },
     "metadata": {},
     "output_type": "display_data"
    }
   ],
   "source": [
    "plt.imshow(train_set_x_orig[221])  \n",
    "print(train_set_y_orig[221]) "
   ]
  },
  {
   "cell_type": "code",
   "execution_count": 57,
   "metadata": {},
   "outputs": [],
   "source": [
    "import numpy as np  \n",
    "#import tensorflow as tf  \n",
    "from keras import layers  \n",
    "from keras.layers import Input, Dense, Activation, ZeroPadding2D, BatchNormalization, Flatten, Conv2D  \n",
    "from keras.layers import AveragePooling2D, MaxPooling2D, Dropout, GlobalMaxPooling2D, GlobalAveragePooling2D  \n",
    "from keras.models import Model  \n",
    "from keras.preprocessing import image  \n",
    "from keras.utils import layer_utils  \n",
    "from keras.utils.data_utils import get_file  \n",
    "from keras.applications.imagenet_utils import preprocess_input  \n",
    "import pydot  \n",
    "from IPython.display import SVG  \n",
    "from keras.utils.vis_utils import model_to_dot  \n",
    "from keras.utils import plot_model  \n",
    "from keras.utils import np_utils\n",
    "  \n",
    "import keras.backend as K  \n",
    "K.set_image_data_format('channels_last')  \n",
    "import matplotlib.pyplot as plt  \n",
    "from matplotlib.pyplot import imshow  \n",
    "  \n",
    "  \n",
    "import os  \n",
    "import numpy as np  \n",
    "from PIL import Image  \n",
    "import tensorflow as tf  \n",
    "import sklearn  \n",
    "from sklearn import preprocessing  \n",
    "import h5py  \n",
    "import scipy  \n",
    "#导入必要的包  \n",
    "%matplotlib inline"
   ]
  },
  {
   "cell_type": "code",
   "execution_count": 42,
   "metadata": {},
   "outputs": [],
   "source": [
    "# 二、导入 hdf5 数据集  \n",
    "#我的图片大小为（64*64*3）  \n",
    "train_dataset = h5py.File('data1.h5', 'r')  \n",
    "X_train = np.array(train_dataset['X_train'][:]) # your train set features  \n",
    "Y_train = np.array(train_dataset['y_train'][:]) # your train set labels  \n",
    "#Y_train = np_utils.to_categorical(Y_train, 3)\n",
    "X_test = np.array(train_dataset['X_test'][:]) # your train set features  \n",
    "Y_test = np.array(train_dataset['y_test'][:]) # your train set labels  \n",
    "train_dataset.close()"
   ]
  },
  {
   "cell_type": "code",
   "execution_count": 59,
   "metadata": {},
   "outputs": [
    {
     "name": "stdout",
     "output_type": "stream",
     "text": [
      "number of training examples = 2561\n",
      "number of test examples = 450\n",
      "X_train shape: (2561, 64, 64, 3)\n",
      "Y_train shape: (2561, 1)\n",
      "X_test shape: (450, 64, 64, 3)\n",
      "Y_test shape: (450, 1)\n"
     ]
    }
   ],
   "source": [
    "print (\"number of training examples = \" + str(X_train.shape[0]))  \n",
    "print (\"number of test examples = \" + str(X_test.shape[0]))  \n",
    "print (\"X_train shape: \" + str(X_train.shape))  \n",
    "print (\"Y_train shape: \" + str(Y_train.shape))  \n",
    "print (\"X_test shape: \" + str(X_test.shape))  \n",
    "print (\"Y_test shape: \" + str(Y_test.shape))"
   ]
  },
  {
   "cell_type": "code",
   "execution_count": 60,
   "metadata": {},
   "outputs": [],
   "source": [
    "#三、建立模型  \n",
    "# GRADED FUNCTION: TumbleModel  \n",
    "      \n",
    "def TumbleModel(input_shape):  \n",
    "        \"\"\" \n",
    "        Implementation of the HappyModel. \n",
    "         \n",
    "        Arguments: \n",
    "        input_shape -- shape of the images of the dataset \n",
    "     \n",
    "     \n",
    "        Returns: \n",
    "        model -- a Model() instance in Keras \n",
    "        \"\"\"  \n",
    "          \n",
    "        ### START CODE HERE ###  \n",
    "        # Feel free to use the suggested outline in the text above to get started, and run through the whole  \n",
    "        # exercise (including the later portions of this notebook) once. The come back also try out other  \n",
    "        # network architectures as well.   \n",
    "        X_input = Input(shape=input_shape)  \n",
    "        X = ZeroPadding2D(padding=(1, 1))(X_input)  \n",
    "        X = Conv2D(8, kernel_size=(3,3), strides=(1,1))(X)  \n",
    "        X = BatchNormalization(axis=3)(X)  \n",
    "        X = Activation('relu')(X)  \n",
    "        X = MaxPooling2D(pool_size=(2,2), strides=(2,2), padding='valid')(X)   #32*32*8  \n",
    "          \n",
    "        X = ZeroPadding2D(padding=(1, 1))(X)  \n",
    "        X = Conv2D(16, kernel_size=(3,3), strides=(1,1))(X)                     #32*32*16  \n",
    "        X = BatchNormalization(axis=3)(X)  \n",
    "        X = Activation('relu')(X)  \n",
    "        X = MaxPooling2D(pool_size=(2,2), strides=(2,2), padding='valid')(X)   #16*16*16  \n",
    "          \n",
    "        X = ZeroPadding2D(padding=(1, 1))(X)  \n",
    "        X = Conv2D(32, kernel_size=(3,3), strides=(1,1))(X)                 #16*16*32  \n",
    "        X = BatchNormalization(axis=3)(X)  \n",
    "        X = Activation('relu')(X)  \n",
    "        X = MaxPooling2D(pool_size=(2,2), strides=(2,2), padding='valid')(X)     #8*8*32  \n",
    "          \n",
    "        # FC  \n",
    "        X = Flatten()(X)  \n",
    "        Y = Dense(1, activation='sigmoid')(X)  \n",
    "          \n",
    "        model = Model(inputs = X_input, outputs = Y, name='TumbleModel')  \n",
    "        ### END CODE HERE ###  \n",
    "          \n",
    "        return model  \n",
    "\n"
   ]
  },
  {
   "cell_type": "code",
   "execution_count": 61,
   "metadata": {},
   "outputs": [],
   "source": [
    "tumbleModel = TumbleModel((64, 64, 3)) "
   ]
  },
  {
   "cell_type": "code",
   "execution_count": 62,
   "metadata": {},
   "outputs": [],
   "source": [
    "import keras  \n",
    "tumbleModel.compile(optimizer=keras.optimizers.Adam(lr=0.001, beta_1=0.9, beta_2=0.999, epsilon=1e-08, decay=0.0), loss='binary_crossentropy', metrics=['accuracy'])  "
   ]
  },
  {
   "cell_type": "code",
   "execution_count": 63,
   "metadata": {},
   "outputs": [
    {
     "name": "stdout",
     "output_type": "stream",
     "text": [
      "Epoch 1/20\n",
      "2561/2561 [==============================] - 24s 9ms/step - loss: 0.7842 - acc: 0.0000e+00\n",
      "Epoch 2/20\n",
      "2561/2561 [==============================] - 23s 9ms/step - loss: 0.6683 - acc: 0.0000e+00\n",
      "Epoch 3/20\n",
      "2561/2561 [==============================] - 23s 9ms/step - loss: 0.6323 - acc: 0.0000e+00\n",
      "Epoch 4/20\n",
      "2561/2561 [==============================] - 23s 9ms/step - loss: 0.5993 - acc: 0.0000e+00\n",
      "Epoch 5/20\n",
      "2561/2561 [==============================] - 23s 9ms/step - loss: 0.5780 - acc: 0.0000e+00\n",
      "Epoch 6/20\n",
      "2561/2561 [==============================] - 23s 9ms/step - loss: 0.5599 - acc: 0.0000e+00\n",
      "Epoch 7/20\n",
      "2561/2561 [==============================] - 23s 9ms/step - loss: 0.5505 - acc: 0.0000e+00\n",
      "Epoch 8/20\n",
      "2561/2561 [==============================] - 22s 9ms/step - loss: 0.5526 - acc: 0.0000e+00\n",
      "Epoch 9/20\n",
      "2561/2561 [==============================] - 22s 9ms/step - loss: 0.5350 - acc: 0.0000e+00\n",
      "Epoch 10/20\n",
      "2561/2561 [==============================] - 23s 9ms/step - loss: 0.5306 - acc: 0.0000e+00\n",
      "Epoch 11/20\n",
      "2561/2561 [==============================] - 23s 9ms/step - loss: 0.5229 - acc: 0.0000e+00\n",
      "Epoch 12/20\n",
      "2561/2561 [==============================] - 23s 9ms/step - loss: 0.5196 - acc: 0.0000e+00\n",
      "Epoch 13/20\n",
      "2561/2561 [==============================] - 23s 9ms/step - loss: 0.5202 - acc: 0.0000e+00\n",
      "Epoch 14/20\n",
      "2561/2561 [==============================] - 23s 9ms/step - loss: 0.5241 - acc: 0.0000e+00\n",
      "Epoch 15/20\n",
      "2561/2561 [==============================] - 23s 9ms/step - loss: 0.5199 - acc: 0.0000e+00\n",
      "Epoch 16/20\n",
      "2561/2561 [==============================] - 23s 9ms/step - loss: 0.5381 - acc: 0.0000e+00\n",
      "Epoch 17/20\n",
      "2561/2561 [==============================] - 23s 9ms/step - loss: 0.5289 - acc: 0.0000e+00\n",
      "Epoch 18/20\n",
      "2561/2561 [==============================] - 23s 9ms/step - loss: 0.5222 - acc: 0.0000e+00\n",
      "Epoch 19/20\n",
      "2561/2561 [==============================] - 23s 9ms/step - loss: 0.5181 - acc: 0.0000e+00\n",
      "Epoch 20/20\n",
      "2561/2561 [==============================] - 23s 9ms/step - loss: 0.5177 - acc: 0.0000e+00\n"
     ]
    },
    {
     "data": {
      "text/plain": [
       "<keras.callbacks.History at 0x7f303ce48470>"
      ]
     },
     "execution_count": 63,
     "metadata": {},
     "output_type": "execute_result"
    }
   ],
   "source": [
    "tumbleModel.fit(x=X_train, y=Y_train, batch_size=16, epochs=20)"
   ]
  },
  {
   "cell_type": "code",
   "execution_count": 64,
   "metadata": {},
   "outputs": [
    {
     "name": "stdout",
     "output_type": "stream",
     "text": [
      "450/450 [==============================] - 2s 4ms/step\n",
      "\n",
      "Loss = 0.8508673283788893\n",
      "Test Accuracy = 0.0\n"
     ]
    }
   ],
   "source": [
    "#Y_test = np_utils.to_categorical(Y_test, 3)\n",
    "preds = tumbleModel.evaluate(x=X_test, y=Y_test)  \n",
    "print()  \n",
    "print (\"Loss = \" + str(preds[0]))  \n",
    "print (\"Test Accuracy = \" + str(preds[1])) "
   ]
  },
  {
   "cell_type": "code",
   "execution_count": null,
   "metadata": {},
   "outputs": [],
   "source": [
    "img_path = '/home/xiepeng/thumb_80_0_20170209044031604.jpg'  \n",
    "img = image.load_img(img_path, target_size=(64, 64))  \n",
    "imshow(img)  \n",
    "  \n",
    "  \n",
    "x = image.img_to_array(img)  \n",
    "x = np.expand_dims(x, axis=0)  \n",
    "x = preprocess_input(x)  \n",
    "  \n",
    "print(tumbleModel.predict(x))  "
   ]
  },
  {
   "cell_type": "code",
   "execution_count": 22,
   "metadata": {},
   "outputs": [],
   "source": [
    "import cv2 as cv\n"
   ]
  },
  {
   "cell_type": "code",
   "execution_count": null,
   "metadata": {},
   "outputs": [],
   "source": []
  }
 ],
 "metadata": {
  "kernelspec": {
   "display_name": "Python 3",
   "language": "python",
   "name": "python3"
  },
  "language_info": {
   "codemirror_mode": {
    "name": "ipython",
    "version": 3
   },
   "file_extension": ".py",
   "mimetype": "text/x-python",
   "name": "python",
   "nbconvert_exporter": "python",
   "pygments_lexer": "ipython3",
   "version": "3.6.4"
  }
 },
 "nbformat": 4,
 "nbformat_minor": 2
}
